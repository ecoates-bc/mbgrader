{
 "cells": [
  {
   "cell_type": "markdown",
   "id": "783aff92-6790-4321-ab65-0c37a63080c7",
   "metadata": {},
   "source": [
    "# canvas2mbgrader"
   ]
  },
  {
   "cell_type": "code",
   "execution_count": 1,
   "id": "b2b6e879-cf12-4c2d-9eb5-80bdf0fb9c7d",
   "metadata": {},
   "outputs": [],
   "source": [
    "from canvasapi import Canvas\n",
    "import os\n",
    "import tempfile\n",
    "import glob"
   ]
  },
  {
   "cell_type": "markdown",
   "id": "37a81a71-7a77-4282-87da-45e88cd608f2",
   "metadata": {},
   "source": [
    "## STEP 1: Connect to Canvas LMS API\n",
    "\n",
    "Create a Canvas access token:\n",
    "\n",
    "1. Login to [canvas.ubc.ca](https://canvas.ubc.ca).\n",
    "2. Navigate to *Account* > *Setting* > *Approved Integration* > *+ New Access Token* and follow the instructions.\n",
    "3. Copy and paste your token into a text file called `token.txt` and save the file to the `mbgrader` folder (ie. the current folder).\n",
    "\n",
    "Run the cell below to connect to the Canvas LMS API."
   ]
  },
  {
   "cell_type": "code",
   "execution_count": 2,
   "id": "64acf178-12f7-4db3-a613-b180cd003219",
   "metadata": {},
   "outputs": [
    {
     "name": "stdout",
     "output_type": "stream",
     "text": [
      "Welcome, Patrick Walls!\n"
     ]
    }
   ],
   "source": [
    "API_URL = 'https://ubc.instructure.com'\n",
    "with open('token.txt','r') as f:\n",
    "    API_KEY = f.read()\n",
    "canvas = Canvas(API_URL, API_KEY)\n",
    "\n",
    "me = canvas.get_user('self')\n",
    "print('Welcome, {}!'.format(me.name))"
   ]
  },
  {
   "cell_type": "markdown",
   "id": "d407ab0c-0980-4310-989c-767c08d115a3",
   "metadata": {},
   "source": [
    "## STEP 2: Select Canvas course and assignment"
   ]
  },
  {
   "cell_type": "code",
   "execution_count": 4,
   "id": "f2e2f52b-6d28-4975-ad3e-0dc9037f145a",
   "metadata": {},
   "outputs": [
    {
     "name": "stdin",
     "output_type": "stream",
     "text": [
      "Enter term code (ie. 2022W1): 2021W2\n"
     ]
    },
    {
     "name": "stdout",
     "output_type": "stream",
     "text": [
      "Fetching Canvas courses ...\n",
      "ID: 85133 \tCourse Code: MATH 101 201 2021W2\n",
      "ID: 92840 \tCourse Code: MATH 101 ALL 2021W2\n",
      "ID: 85153 \tCourse Code: MATH 152 ALL 2021W2\n",
      "ID: 85163 \tCourse Code: MATH 210 201 2021W2\n",
      "ID: 85165 \tCourse Code: MATH 215 201/202 2021W2\n",
      "ID: 85174 \tCourse Code: MATH 254 201 2021W2\n",
      "ID: 85190 \tCourse Code: MATH 307 201 2021W2\n",
      "ID: 85191 \tCourse Code: MATH 307 202 2021W2\n",
      "ID: 85242 \tCourse Code: MECH 222 201 2021W2\n"
     ]
    },
    {
     "name": "stdin",
     "output_type": "stream",
     "text": [
      "\n",
      "Enter Canvas course ID: 85153\n"
     ]
    },
    {
     "name": "stdout",
     "output_type": "stream",
     "text": [
      "Fetching Canvas assignments ...\n",
      "ID: 1119877 \t Name: Webwork Assignment00\n",
      "ID: 1101970 \t Name: Webwork Assignment01\n",
      "ID: 1101971 \t Name: Webwork Assignment02\n",
      "ID: 1101972 \t Name: Webwork Assignment03\n",
      "ID: 1101973 \t Name: Webwork Assignment04\n",
      "ID: 1101963 \t Name: Webwork Assignment05\n",
      "ID: 1101974 \t Name: Webwork Assignment06\n",
      "ID: 1101975 \t Name: Webwork Assignment07\n",
      "ID: 1101976 \t Name: Webwork Assignment08\n",
      "ID: 1101977 \t Name: Webwork Assignment09\n",
      "ID: 1101978 \t Name: Webwork Assignment10\n",
      "ID: 1101979 \t Name: Webwork Assignment11 (for practice only)\n",
      "ID: 1101952 \t Name: MATLAB Computer Lab 1\n",
      "ID: 1101953 \t Name: MATLAB Computer Lab 2\n",
      "ID: 1101954 \t Name: MATLAB Computer Lab 3\n",
      "ID: 1101955 \t Name: MATLAB Computer Lab 4\n",
      "ID: 1101956 \t Name: MATLAB Computer Lab 5\n",
      "ID: 1101957 \t Name: MATLAB Computer Lab 6\n",
      "ID: 1187025 \t Name: Exam 1B (4)\n",
      "ID: 1187026 \t Name: Exam 1A\n",
      "ID: 1202367 \t Name: Exam 2A\n",
      "ID: 1202442 \t Name: Exam 2B (3)\n",
      "ID: 1219488 \t Name: Final Exam\n"
     ]
    },
    {
     "name": "stdin",
     "output_type": "stream",
     "text": [
      "\n",
      "Enter Canvas assignment ID: 1101952\n",
      "Enter assignment folder name: lab1\n"
     ]
    },
    {
     "name": "stdout",
     "output_type": "stream",
     "text": [
      "\n",
      "    Course: MATH 152 ALL 2021W2 \n",
      "      Term: 2021W2 \n",
      "Assignment: MATLAB Computer Lab 1 \n",
      "    Folder: canvas/lab1\n"
     ]
    }
   ],
   "source": [
    "term = input('Enter term code (ie. 2022W1):')\n",
    "print('Fetching Canvas courses ...')\n",
    "courses = canvas.get_courses(include=['term'])\n",
    "for course in courses:\n",
    "    if course.term['name'] == term:\n",
    "        print('ID:',course.id,'\\tCourse Code:',course.course_code)\n",
    "courseID = int(input('\\nEnter Canvas course ID:'))\n",
    "print('Fetching Canvas assignments ...')\n",
    "course = canvas.get_course(courseID)\n",
    "assignments = course.get_assignments()\n",
    "for assignment in assignments:\n",
    "    print('ID:',assignment.id,'\\t Name:',assignment.name)\n",
    "assignmentID = int(input('\\nEnter Canvas assignment ID:'))\n",
    "assignment = course.get_assignment(assignmentID)\n",
    "assignment_name = input('Enter assignment folder name:')\n",
    "destination = os.path.join('canvas',assignment_name)\n",
    "os.makedirs(destination,exist_ok=True)\n",
    "print('\\n    Course:',course.course_code,'\\n      Term:',term,'\\nAssignment:',assignment.name,'\\n    Folder:',destination)"
   ]
  },
  {
   "cell_type": "markdown",
   "id": "6d32a803-32a4-422d-8255-a5882ad3024b",
   "metadata": {},
   "source": [
    "## STEP 3: Download submissions and move to `canvas` folder\n",
    "\n",
    "Click the link output by the cell below to bulk download assignment submissions."
   ]
  },
  {
   "cell_type": "code",
   "execution_count": 5,
   "id": "e3722cf0-d92d-4e73-b5a2-7c8a4a4b5b80",
   "metadata": {},
   "outputs": [
    {
     "name": "stdout",
     "output_type": "stream",
     "text": [
      "https://ubc.instructure.com/courses/85153/assignments/1101952/submissions?zip=1\n"
     ]
    }
   ],
   "source": [
    "print(assignment.submissions_download_url)"
   ]
  },
  {
   "cell_type": "markdown",
   "id": "54bdb5ee-0032-48da-94db-94e9a39f1b9f",
   "metadata": {},
   "source": [
    "Move student files to the assignment folder:"
   ]
  },
  {
   "cell_type": "code",
   "execution_count": 6,
   "id": "20379567-6d30-4417-a7a4-9ec5829e77f8",
   "metadata": {},
   "outputs": [
    {
     "name": "stdout",
     "output_type": "stream",
     "text": [
      "canvas/lab1\n"
     ]
    }
   ],
   "source": [
    "print(destination)"
   ]
  },
  {
   "cell_type": "markdown",
   "id": "aa87eeae-0fd3-4205-99cf-b76d03e8939e",
   "metadata": {},
   "source": [
    "Count total student files:"
   ]
  },
  {
   "cell_type": "code",
   "execution_count": 8,
   "id": "4dcabd36-84dd-4971-b23c-50a0d09c6c3c",
   "metadata": {},
   "outputs": [
    {
     "name": "stdout",
     "output_type": "stream",
     "text": [
      "Found 930 student files in canvas/lab1.\n"
     ]
    }
   ],
   "source": [
    "files = glob.glob(os.path.join(destination,'*'))\n",
    "print('Found {} student files in {}.'.format(len(files),destination))"
   ]
  },
  {
   "cell_type": "markdown",
   "id": "e04ec761-515f-4fb7-bed7-5bdaa3f8bb76",
   "metadata": {},
   "source": [
    "## STEP 4: Create `canvasIDstudentID.csv`"
   ]
  },
  {
   "cell_type": "markdown",
   "id": "611b5572-e132-4430-a00a-a4b17927c9a8",
   "metadata": {},
   "source": [
    "Student files downloaded from Canvas contain Canvas user IDs in filenames. However, we need UBC student IDs for grading. Run the cell below to create the table `canvasIDstudentID.csv` which matches students Canvas IDs and UBC IDs."
   ]
  },
  {
   "cell_type": "code",
   "execution_count": 9,
   "id": "2602243c-5cf3-4f04-9ffb-3590bf6beb55",
   "metadata": {},
   "outputs": [],
   "source": [
    "students = course.get_users()\n",
    "with open('canvasIDstudentID.csv','w') as f:\n",
    "    for student in students:\n",
    "        if student.sis_user_id:\n",
    "            f.write('{},{}\\n'.format(student.id,student.sis_user_id))"
   ]
  },
  {
   "cell_type": "markdown",
   "id": "8c47dd89-5e48-4859-96db-e959fe52f8e1",
   "metadata": {},
   "source": [
    "## STEP 5: Extract MATLAB data from .mat and .fig files"
   ]
  },
  {
   "cell_type": "markdown",
   "id": "fd023f7d-316c-475d-8264-e6830a1ebecb",
   "metadata": {},
   "source": [
    "* Open MATLAB and navigate to `mbgrader` folder\n",
    "* Run the script `canvas2mbgrader.m`\n",
    "\n",
    "See `issues` folder to see MATLAB files that were not loaded."
   ]
  },
  {
   "cell_type": "markdown",
   "id": "9f33fcfe-8276-46d4-959b-096496cd3a3f",
   "metadata": {},
   "source": [
    "## STEP 6: Run mbgrader\n",
    "\n",
    "Open a new terminal and enter the commands:\n",
    "\n",
    "```\n",
    "conda activate mbgrader\n",
    "python init_db.py\n",
    "export FLASK_APP=app\n",
    "flask run\n",
    "```\n",
    "\n",
    "Open a browser, navigate to [`http://127.0.0.1:5000`](http://127.0.0.1:5000/), grade the assignment and save the grades when complete."
   ]
  },
  {
   "cell_type": "markdown",
   "id": "31a90966-6583-428d-8314-7a0d060cf891",
   "metadata": {},
   "source": [
    "## STEP 7: Upload grades and feedback"
   ]
  },
  {
   "cell_type": "code",
   "execution_count": 12,
   "id": "66eb1d48-1e93-46c1-9987-c96e31676351",
   "metadata": {},
   "outputs": [
    {
     "name": "stdout",
     "output_type": "stream",
     "text": [
      "\n",
      "    Course: MATH 152 ALL 2021W2 \n",
      "      Term: 2021W2 \n",
      "Assignment: MATLAB Computer Lab 1 \n",
      "    Folder: submissions/lab1 \n",
      "\n"
     ]
    },
    {
     "name": "stdin",
     "output_type": "stream",
     "text": [
      "Upload files to Canvas. Continue? [y]/n \n"
     ]
    },
    {
     "name": "stdout",
     "output_type": "stream",
     "text": [
      "\n",
      "Uploading for grades and feedback ...\n",
      "10175487 10200947 10252724 10289395 10348217 10442259 10553832 10835940 10840817 Done!\n"
     ]
    }
   ],
   "source": [
    "print('\\n    Course:',course.course_code,'\\n      Term:',term,'\\nAssignment:',assignment.name,'\\n    Folder:',os.path.join('submissions',assignment_name),'\\n')\n",
    "upload = input('Upload files to Canvas. Continue? [y]/n')\n",
    "\n",
    "if upload in ['y','']:\n",
    "    with open('canvasIDstudentID.csv') as f:\n",
    "        lines = f.readlines()\n",
    "        studentIDcanvasID = {}\n",
    "        for line in lines:\n",
    "            items = line.split(\",\")\n",
    "            canvasID = int(items[0])\n",
    "            studentID = int(items[1])\n",
    "            studentIDcanvasID[studentID] = canvasID\n",
    "\n",
    "    with open(os.path.join('grades',assignment_name + '.csv')) as f:\n",
    "        lines = f.readlines()\n",
    "\n",
    "    print('\\nUploading for grades and feedback ...')\n",
    "    for line in lines[1:]:\n",
    "        items = line.split(',')\n",
    "        student_id = int(items[0])\n",
    "        canvas_id = studentIDcanvasID[student_id]\n",
    "        try:\n",
    "            submission = assignment.get_submission(canvas_id)\n",
    "        except:\n",
    "            print('Could not find assignment for {}'.format(canvas_id))\n",
    "            continue\n",
    "        print('{}'.format(student_id),end=' ')\n",
    "        score = float(items[-1])\n",
    "        submission.edit(submission={'posted_grade': score}\n",
    "        f = tempfile.NamedTemporaryFile('w+')\n",
    "        f.name = 'feedback.txt'\n",
    "        source = os.path.join(\"feedback\",assignment_name,'{}.txt'.format(student_id))\n",
    "        with open(source,'r') as fsource:\n",
    "            f.write(fsource.read())\n",
    "        f.seek(0)\n",
    "        submission.upload_comment(f)\n",
    "        f.close()\n",
    "    print('Done!')\n",
    "else:\n",
    "    print('Cancel upload.')"
   ]
  }
 ],
 "metadata": {
  "kernelspec": {
   "display_name": "Python 3 (ipykernel)",
   "language": "python",
   "name": "python3"
  },
  "language_info": {
   "codemirror_mode": {
    "name": "ipython",
    "version": 3
   },
   "file_extension": ".py",
   "mimetype": "text/x-python",
   "name": "python",
   "nbconvert_exporter": "python",
   "pygments_lexer": "ipython3",
   "version": "3.9.12"
  }
 },
 "nbformat": 4,
 "nbformat_minor": 5
}
